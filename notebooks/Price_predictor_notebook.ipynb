{
 "cells": [
  {
   "cell_type": "code",
   "execution_count": 25,
   "metadata": {},
   "outputs": [],
   "source": [
    "import os\n",
    "\n",
    "os.environ['KMP_DUPLICATE_LIB_OK']='True'"
   ]
  },
  {
   "cell_type": "markdown",
   "metadata": {},
   "source": [
    "### Read in the CSV"
   ]
  },
  {
   "cell_type": "code",
   "execution_count": 26,
   "metadata": {
    "scrolled": true
   },
   "outputs": [],
   "source": [
    "import pandas as pd\n",
    "SOURCE = '../notebooks/kc_house_data.csv'\n",
    "df = pd.read_csv(SOURCE)"
   ]
  },
  {
   "cell_type": "markdown",
   "metadata": {},
   "source": [
    "### Data Exploration"
   ]
  },
  {
   "cell_type": "code",
   "execution_count": 27,
   "metadata": {},
   "outputs": [
    {
     "data": {
      "text/html": [
       "<div>\n",
       "<style scoped>\n",
       "    .dataframe tbody tr th:only-of-type {\n",
       "        vertical-align: middle;\n",
       "    }\n",
       "\n",
       "    .dataframe tbody tr th {\n",
       "        vertical-align: top;\n",
       "    }\n",
       "\n",
       "    .dataframe thead th {\n",
       "        text-align: right;\n",
       "    }\n",
       "</style>\n",
       "<table border=\"1\" class=\"dataframe\">\n",
       "  <thead>\n",
       "    <tr style=\"text-align: right;\">\n",
       "      <th></th>\n",
       "      <th>id</th>\n",
       "      <th>date</th>\n",
       "      <th>price</th>\n",
       "      <th>bedrooms</th>\n",
       "      <th>bathrooms</th>\n",
       "      <th>sqft_living</th>\n",
       "      <th>sqft_lot</th>\n",
       "      <th>floors</th>\n",
       "      <th>waterfront</th>\n",
       "      <th>view</th>\n",
       "      <th>...</th>\n",
       "      <th>grade</th>\n",
       "      <th>sqft_above</th>\n",
       "      <th>sqft_basement</th>\n",
       "      <th>yr_built</th>\n",
       "      <th>yr_renovated</th>\n",
       "      <th>zipcode</th>\n",
       "      <th>lat</th>\n",
       "      <th>long</th>\n",
       "      <th>sqft_living15</th>\n",
       "      <th>sqft_lot15</th>\n",
       "    </tr>\n",
       "  </thead>\n",
       "  <tbody>\n",
       "    <tr>\n",
       "      <th>0</th>\n",
       "      <td>7129300520</td>\n",
       "      <td>20141013T000000</td>\n",
       "      <td>221900.0</td>\n",
       "      <td>3</td>\n",
       "      <td>1.00</td>\n",
       "      <td>1180</td>\n",
       "      <td>5650</td>\n",
       "      <td>1.0</td>\n",
       "      <td>0</td>\n",
       "      <td>0</td>\n",
       "      <td>...</td>\n",
       "      <td>7</td>\n",
       "      <td>1180</td>\n",
       "      <td>0</td>\n",
       "      <td>1955</td>\n",
       "      <td>0</td>\n",
       "      <td>98178</td>\n",
       "      <td>47.5112</td>\n",
       "      <td>-122.257</td>\n",
       "      <td>1340</td>\n",
       "      <td>5650</td>\n",
       "    </tr>\n",
       "    <tr>\n",
       "      <th>1</th>\n",
       "      <td>6414100192</td>\n",
       "      <td>20141209T000000</td>\n",
       "      <td>538000.0</td>\n",
       "      <td>3</td>\n",
       "      <td>2.25</td>\n",
       "      <td>2570</td>\n",
       "      <td>7242</td>\n",
       "      <td>2.0</td>\n",
       "      <td>0</td>\n",
       "      <td>0</td>\n",
       "      <td>...</td>\n",
       "      <td>7</td>\n",
       "      <td>2170</td>\n",
       "      <td>400</td>\n",
       "      <td>1951</td>\n",
       "      <td>1991</td>\n",
       "      <td>98125</td>\n",
       "      <td>47.7210</td>\n",
       "      <td>-122.319</td>\n",
       "      <td>1690</td>\n",
       "      <td>7639</td>\n",
       "    </tr>\n",
       "    <tr>\n",
       "      <th>2</th>\n",
       "      <td>5631500400</td>\n",
       "      <td>20150225T000000</td>\n",
       "      <td>180000.0</td>\n",
       "      <td>2</td>\n",
       "      <td>1.00</td>\n",
       "      <td>770</td>\n",
       "      <td>10000</td>\n",
       "      <td>1.0</td>\n",
       "      <td>0</td>\n",
       "      <td>0</td>\n",
       "      <td>...</td>\n",
       "      <td>6</td>\n",
       "      <td>770</td>\n",
       "      <td>0</td>\n",
       "      <td>1933</td>\n",
       "      <td>0</td>\n",
       "      <td>98028</td>\n",
       "      <td>47.7379</td>\n",
       "      <td>-122.233</td>\n",
       "      <td>2720</td>\n",
       "      <td>8062</td>\n",
       "    </tr>\n",
       "    <tr>\n",
       "      <th>3</th>\n",
       "      <td>2487200875</td>\n",
       "      <td>20141209T000000</td>\n",
       "      <td>604000.0</td>\n",
       "      <td>4</td>\n",
       "      <td>3.00</td>\n",
       "      <td>1960</td>\n",
       "      <td>5000</td>\n",
       "      <td>1.0</td>\n",
       "      <td>0</td>\n",
       "      <td>0</td>\n",
       "      <td>...</td>\n",
       "      <td>7</td>\n",
       "      <td>1050</td>\n",
       "      <td>910</td>\n",
       "      <td>1965</td>\n",
       "      <td>0</td>\n",
       "      <td>98136</td>\n",
       "      <td>47.5208</td>\n",
       "      <td>-122.393</td>\n",
       "      <td>1360</td>\n",
       "      <td>5000</td>\n",
       "    </tr>\n",
       "    <tr>\n",
       "      <th>4</th>\n",
       "      <td>1954400510</td>\n",
       "      <td>20150218T000000</td>\n",
       "      <td>510000.0</td>\n",
       "      <td>3</td>\n",
       "      <td>2.00</td>\n",
       "      <td>1680</td>\n",
       "      <td>8080</td>\n",
       "      <td>1.0</td>\n",
       "      <td>0</td>\n",
       "      <td>0</td>\n",
       "      <td>...</td>\n",
       "      <td>8</td>\n",
       "      <td>1680</td>\n",
       "      <td>0</td>\n",
       "      <td>1987</td>\n",
       "      <td>0</td>\n",
       "      <td>98074</td>\n",
       "      <td>47.6168</td>\n",
       "      <td>-122.045</td>\n",
       "      <td>1800</td>\n",
       "      <td>7503</td>\n",
       "    </tr>\n",
       "  </tbody>\n",
       "</table>\n",
       "<p>5 rows × 21 columns</p>\n",
       "</div>"
      ],
      "text/plain": [
       "           id             date     price  bedrooms  bathrooms  sqft_living  \\\n",
       "0  7129300520  20141013T000000  221900.0         3       1.00         1180   \n",
       "1  6414100192  20141209T000000  538000.0         3       2.25         2570   \n",
       "2  5631500400  20150225T000000  180000.0         2       1.00          770   \n",
       "3  2487200875  20141209T000000  604000.0         4       3.00         1960   \n",
       "4  1954400510  20150218T000000  510000.0         3       2.00         1680   \n",
       "\n",
       "   sqft_lot  floors  waterfront  view  ...  grade  sqft_above  sqft_basement  \\\n",
       "0      5650     1.0           0     0  ...      7        1180              0   \n",
       "1      7242     2.0           0     0  ...      7        2170            400   \n",
       "2     10000     1.0           0     0  ...      6         770              0   \n",
       "3      5000     1.0           0     0  ...      7        1050            910   \n",
       "4      8080     1.0           0     0  ...      8        1680              0   \n",
       "\n",
       "   yr_built  yr_renovated  zipcode      lat     long  sqft_living15  \\\n",
       "0      1955             0    98178  47.5112 -122.257           1340   \n",
       "1      1951          1991    98125  47.7210 -122.319           1690   \n",
       "2      1933             0    98028  47.7379 -122.233           2720   \n",
       "3      1965             0    98136  47.5208 -122.393           1360   \n",
       "4      1987             0    98074  47.6168 -122.045           1800   \n",
       "\n",
       "   sqft_lot15  \n",
       "0        5650  \n",
       "1        7639  \n",
       "2        8062  \n",
       "3        5000  \n",
       "4        7503  \n",
       "\n",
       "[5 rows x 21 columns]"
      ]
     },
     "execution_count": 27,
     "metadata": {},
     "output_type": "execute_result"
    }
   ],
   "source": [
    "df.head()"
   ]
  },
  {
   "cell_type": "code",
   "execution_count": 28,
   "metadata": {},
   "outputs": [
    {
     "data": {
      "text/html": [
       "<div>\n",
       "<style scoped>\n",
       "    .dataframe tbody tr th:only-of-type {\n",
       "        vertical-align: middle;\n",
       "    }\n",
       "\n",
       "    .dataframe tbody tr th {\n",
       "        vertical-align: top;\n",
       "    }\n",
       "\n",
       "    .dataframe thead th {\n",
       "        text-align: right;\n",
       "    }\n",
       "</style>\n",
       "<table border=\"1\" class=\"dataframe\">\n",
       "  <thead>\n",
       "    <tr style=\"text-align: right;\">\n",
       "      <th></th>\n",
       "      <th>id</th>\n",
       "      <th>price</th>\n",
       "      <th>bedrooms</th>\n",
       "      <th>bathrooms</th>\n",
       "      <th>sqft_living</th>\n",
       "      <th>sqft_lot</th>\n",
       "      <th>floors</th>\n",
       "      <th>waterfront</th>\n",
       "      <th>view</th>\n",
       "      <th>condition</th>\n",
       "      <th>grade</th>\n",
       "      <th>sqft_above</th>\n",
       "      <th>sqft_basement</th>\n",
       "      <th>yr_built</th>\n",
       "      <th>yr_renovated</th>\n",
       "      <th>zipcode</th>\n",
       "      <th>lat</th>\n",
       "      <th>long</th>\n",
       "      <th>sqft_living15</th>\n",
       "      <th>sqft_lot15</th>\n",
       "    </tr>\n",
       "  </thead>\n",
       "  <tbody>\n",
       "    <tr>\n",
       "      <th>count</th>\n",
       "      <td>2.161300e+04</td>\n",
       "      <td>2.161300e+04</td>\n",
       "      <td>21613.000000</td>\n",
       "      <td>21613.000000</td>\n",
       "      <td>21613.000000</td>\n",
       "      <td>2.161300e+04</td>\n",
       "      <td>21613.000000</td>\n",
       "      <td>21613.000000</td>\n",
       "      <td>21613.000000</td>\n",
       "      <td>21613.000000</td>\n",
       "      <td>21613.000000</td>\n",
       "      <td>21613.000000</td>\n",
       "      <td>21613.000000</td>\n",
       "      <td>21613.000000</td>\n",
       "      <td>21613.000000</td>\n",
       "      <td>21613.000000</td>\n",
       "      <td>21613.000000</td>\n",
       "      <td>21613.000000</td>\n",
       "      <td>21613.000000</td>\n",
       "      <td>21613.000000</td>\n",
       "    </tr>\n",
       "    <tr>\n",
       "      <th>mean</th>\n",
       "      <td>4.580302e+09</td>\n",
       "      <td>5.401822e+05</td>\n",
       "      <td>3.369454</td>\n",
       "      <td>2.114757</td>\n",
       "      <td>2079.899736</td>\n",
       "      <td>1.510697e+04</td>\n",
       "      <td>1.494309</td>\n",
       "      <td>0.007542</td>\n",
       "      <td>0.234303</td>\n",
       "      <td>3.409430</td>\n",
       "      <td>7.656873</td>\n",
       "      <td>1788.390691</td>\n",
       "      <td>291.509045</td>\n",
       "      <td>1971.005136</td>\n",
       "      <td>84.402258</td>\n",
       "      <td>98077.939805</td>\n",
       "      <td>47.560053</td>\n",
       "      <td>-122.213896</td>\n",
       "      <td>1986.552492</td>\n",
       "      <td>12768.455652</td>\n",
       "    </tr>\n",
       "    <tr>\n",
       "      <th>std</th>\n",
       "      <td>2.876566e+09</td>\n",
       "      <td>3.673622e+05</td>\n",
       "      <td>0.907964</td>\n",
       "      <td>0.770163</td>\n",
       "      <td>918.440897</td>\n",
       "      <td>4.142051e+04</td>\n",
       "      <td>0.539989</td>\n",
       "      <td>0.086517</td>\n",
       "      <td>0.766318</td>\n",
       "      <td>0.650743</td>\n",
       "      <td>1.175459</td>\n",
       "      <td>828.090978</td>\n",
       "      <td>442.575043</td>\n",
       "      <td>29.373411</td>\n",
       "      <td>401.679240</td>\n",
       "      <td>53.505026</td>\n",
       "      <td>0.138564</td>\n",
       "      <td>0.140828</td>\n",
       "      <td>685.391304</td>\n",
       "      <td>27304.179631</td>\n",
       "    </tr>\n",
       "    <tr>\n",
       "      <th>min</th>\n",
       "      <td>1.000102e+06</td>\n",
       "      <td>7.500000e+04</td>\n",
       "      <td>0.000000</td>\n",
       "      <td>0.000000</td>\n",
       "      <td>290.000000</td>\n",
       "      <td>5.200000e+02</td>\n",
       "      <td>1.000000</td>\n",
       "      <td>0.000000</td>\n",
       "      <td>0.000000</td>\n",
       "      <td>1.000000</td>\n",
       "      <td>1.000000</td>\n",
       "      <td>290.000000</td>\n",
       "      <td>0.000000</td>\n",
       "      <td>1900.000000</td>\n",
       "      <td>0.000000</td>\n",
       "      <td>98001.000000</td>\n",
       "      <td>47.155900</td>\n",
       "      <td>-122.519000</td>\n",
       "      <td>399.000000</td>\n",
       "      <td>651.000000</td>\n",
       "    </tr>\n",
       "    <tr>\n",
       "      <th>25%</th>\n",
       "      <td>2.123049e+09</td>\n",
       "      <td>3.219500e+05</td>\n",
       "      <td>3.000000</td>\n",
       "      <td>1.750000</td>\n",
       "      <td>1427.000000</td>\n",
       "      <td>5.040000e+03</td>\n",
       "      <td>1.000000</td>\n",
       "      <td>0.000000</td>\n",
       "      <td>0.000000</td>\n",
       "      <td>3.000000</td>\n",
       "      <td>7.000000</td>\n",
       "      <td>1190.000000</td>\n",
       "      <td>0.000000</td>\n",
       "      <td>1951.000000</td>\n",
       "      <td>0.000000</td>\n",
       "      <td>98033.000000</td>\n",
       "      <td>47.471000</td>\n",
       "      <td>-122.328000</td>\n",
       "      <td>1490.000000</td>\n",
       "      <td>5100.000000</td>\n",
       "    </tr>\n",
       "    <tr>\n",
       "      <th>50%</th>\n",
       "      <td>3.904930e+09</td>\n",
       "      <td>4.500000e+05</td>\n",
       "      <td>3.000000</td>\n",
       "      <td>2.250000</td>\n",
       "      <td>1910.000000</td>\n",
       "      <td>7.618000e+03</td>\n",
       "      <td>1.500000</td>\n",
       "      <td>0.000000</td>\n",
       "      <td>0.000000</td>\n",
       "      <td>3.000000</td>\n",
       "      <td>7.000000</td>\n",
       "      <td>1560.000000</td>\n",
       "      <td>0.000000</td>\n",
       "      <td>1975.000000</td>\n",
       "      <td>0.000000</td>\n",
       "      <td>98065.000000</td>\n",
       "      <td>47.571800</td>\n",
       "      <td>-122.230000</td>\n",
       "      <td>1840.000000</td>\n",
       "      <td>7620.000000</td>\n",
       "    </tr>\n",
       "    <tr>\n",
       "      <th>75%</th>\n",
       "      <td>7.308900e+09</td>\n",
       "      <td>6.450000e+05</td>\n",
       "      <td>4.000000</td>\n",
       "      <td>2.500000</td>\n",
       "      <td>2550.000000</td>\n",
       "      <td>1.068800e+04</td>\n",
       "      <td>2.000000</td>\n",
       "      <td>0.000000</td>\n",
       "      <td>0.000000</td>\n",
       "      <td>4.000000</td>\n",
       "      <td>8.000000</td>\n",
       "      <td>2210.000000</td>\n",
       "      <td>560.000000</td>\n",
       "      <td>1997.000000</td>\n",
       "      <td>0.000000</td>\n",
       "      <td>98118.000000</td>\n",
       "      <td>47.678000</td>\n",
       "      <td>-122.125000</td>\n",
       "      <td>2360.000000</td>\n",
       "      <td>10083.000000</td>\n",
       "    </tr>\n",
       "    <tr>\n",
       "      <th>max</th>\n",
       "      <td>9.900000e+09</td>\n",
       "      <td>7.700000e+06</td>\n",
       "      <td>11.000000</td>\n",
       "      <td>8.000000</td>\n",
       "      <td>13540.000000</td>\n",
       "      <td>1.651359e+06</td>\n",
       "      <td>3.500000</td>\n",
       "      <td>1.000000</td>\n",
       "      <td>4.000000</td>\n",
       "      <td>5.000000</td>\n",
       "      <td>13.000000</td>\n",
       "      <td>9410.000000</td>\n",
       "      <td>4820.000000</td>\n",
       "      <td>2015.000000</td>\n",
       "      <td>2015.000000</td>\n",
       "      <td>98199.000000</td>\n",
       "      <td>47.777600</td>\n",
       "      <td>-121.315000</td>\n",
       "      <td>6210.000000</td>\n",
       "      <td>871200.000000</td>\n",
       "    </tr>\n",
       "  </tbody>\n",
       "</table>\n",
       "</div>"
      ],
      "text/plain": [
       "                 id         price      bedrooms     bathrooms   sqft_living  \\\n",
       "count  2.161300e+04  2.161300e+04  21613.000000  21613.000000  21613.000000   \n",
       "mean   4.580302e+09  5.401822e+05      3.369454      2.114757   2079.899736   \n",
       "std    2.876566e+09  3.673622e+05      0.907964      0.770163    918.440897   \n",
       "min    1.000102e+06  7.500000e+04      0.000000      0.000000    290.000000   \n",
       "25%    2.123049e+09  3.219500e+05      3.000000      1.750000   1427.000000   \n",
       "50%    3.904930e+09  4.500000e+05      3.000000      2.250000   1910.000000   \n",
       "75%    7.308900e+09  6.450000e+05      4.000000      2.500000   2550.000000   \n",
       "max    9.900000e+09  7.700000e+06     11.000000      8.000000  13540.000000   \n",
       "\n",
       "           sqft_lot        floors    waterfront          view     condition  \\\n",
       "count  2.161300e+04  21613.000000  21613.000000  21613.000000  21613.000000   \n",
       "mean   1.510697e+04      1.494309      0.007542      0.234303      3.409430   \n",
       "std    4.142051e+04      0.539989      0.086517      0.766318      0.650743   \n",
       "min    5.200000e+02      1.000000      0.000000      0.000000      1.000000   \n",
       "25%    5.040000e+03      1.000000      0.000000      0.000000      3.000000   \n",
       "50%    7.618000e+03      1.500000      0.000000      0.000000      3.000000   \n",
       "75%    1.068800e+04      2.000000      0.000000      0.000000      4.000000   \n",
       "max    1.651359e+06      3.500000      1.000000      4.000000      5.000000   \n",
       "\n",
       "              grade    sqft_above  sqft_basement      yr_built  yr_renovated  \\\n",
       "count  21613.000000  21613.000000   21613.000000  21613.000000  21613.000000   \n",
       "mean       7.656873   1788.390691     291.509045   1971.005136     84.402258   \n",
       "std        1.175459    828.090978     442.575043     29.373411    401.679240   \n",
       "min        1.000000    290.000000       0.000000   1900.000000      0.000000   \n",
       "25%        7.000000   1190.000000       0.000000   1951.000000      0.000000   \n",
       "50%        7.000000   1560.000000       0.000000   1975.000000      0.000000   \n",
       "75%        8.000000   2210.000000     560.000000   1997.000000      0.000000   \n",
       "max       13.000000   9410.000000    4820.000000   2015.000000   2015.000000   \n",
       "\n",
       "            zipcode           lat          long  sqft_living15     sqft_lot15  \n",
       "count  21613.000000  21613.000000  21613.000000   21613.000000   21613.000000  \n",
       "mean   98077.939805     47.560053   -122.213896    1986.552492   12768.455652  \n",
       "std       53.505026      0.138564      0.140828     685.391304   27304.179631  \n",
       "min    98001.000000     47.155900   -122.519000     399.000000     651.000000  \n",
       "25%    98033.000000     47.471000   -122.328000    1490.000000    5100.000000  \n",
       "50%    98065.000000     47.571800   -122.230000    1840.000000    7620.000000  \n",
       "75%    98118.000000     47.678000   -122.125000    2360.000000   10083.000000  \n",
       "max    98199.000000     47.777600   -121.315000    6210.000000  871200.000000  "
      ]
     },
     "execution_count": 28,
     "metadata": {},
     "output_type": "execute_result"
    }
   ],
   "source": [
    "df.describe()"
   ]
  },
  {
   "cell_type": "code",
   "execution_count": 29,
   "metadata": {},
   "outputs": [
    {
     "data": {
      "text/html": [
       "<div>\n",
       "<style scoped>\n",
       "    .dataframe tbody tr th:only-of-type {\n",
       "        vertical-align: middle;\n",
       "    }\n",
       "\n",
       "    .dataframe tbody tr th {\n",
       "        vertical-align: top;\n",
       "    }\n",
       "\n",
       "    .dataframe thead th {\n",
       "        text-align: right;\n",
       "    }\n",
       "</style>\n",
       "<table border=\"1\" class=\"dataframe\">\n",
       "  <thead>\n",
       "    <tr style=\"text-align: right;\">\n",
       "      <th></th>\n",
       "      <th>date</th>\n",
       "    </tr>\n",
       "  </thead>\n",
       "  <tbody>\n",
       "    <tr>\n",
       "      <th>count</th>\n",
       "      <td>21613</td>\n",
       "    </tr>\n",
       "    <tr>\n",
       "      <th>unique</th>\n",
       "      <td>372</td>\n",
       "    </tr>\n",
       "    <tr>\n",
       "      <th>top</th>\n",
       "      <td>20140623T000000</td>\n",
       "    </tr>\n",
       "    <tr>\n",
       "      <th>freq</th>\n",
       "      <td>142</td>\n",
       "    </tr>\n",
       "  </tbody>\n",
       "</table>\n",
       "</div>"
      ],
      "text/plain": [
       "                   date\n",
       "count             21613\n",
       "unique              372\n",
       "top     20140623T000000\n",
       "freq                142"
      ]
     },
     "execution_count": 29,
     "metadata": {},
     "output_type": "execute_result"
    }
   ],
   "source": [
    "df.describe(exclude='number')"
   ]
  },
  {
   "cell_type": "code",
   "execution_count": 30,
   "metadata": {},
   "outputs": [],
   "source": [
    "# import pandas_profiling\n",
    "# pandas_profiling.ProfileReport(df)"
   ]
  },
  {
   "cell_type": "markdown",
   "metadata": {},
   "source": [
    "### Train/Test Split"
   ]
  },
  {
   "cell_type": "code",
   "execution_count": 31,
   "metadata": {},
   "outputs": [
    {
     "data": {
      "text/plain": [
       "((19449, 21), (2164, 21))"
      ]
     },
     "execution_count": 31,
     "metadata": {},
     "output_type": "execute_result"
    }
   ],
   "source": [
    "from sklearn.model_selection import train_test_split\n",
    "# Train/Test split\n",
    "traintest = df.copy()\n",
    "id = df['id'].unique()\n",
    "train_id, test_id = train_test_split(id, random_state=42, test_size=.1)\n",
    "\n",
    "train = traintest[traintest['id'].isin(train_id)]\n",
    "test = traintest[traintest['id'].isin(test_id)]\n",
    "train.shape, test.shape"
   ]
  },
  {
   "cell_type": "markdown",
   "metadata": {},
   "source": [
    "### Wrangle Function- Feature dropping"
   ]
  },
  {
   "cell_type": "code",
   "execution_count": 32,
   "metadata": {},
   "outputs": [],
   "source": [
    "# Wrangle function\n",
    "def wrangle(X):\n",
    "    X = X.copy()\n",
    "    \n",
    "\n",
    "    X = X.drop(columns =['date', 'view', 'lat', 'long', 'yr_renovated', 'sqft_above', 'sqft_basement', 'sqft_living15', 'sqft_lot','sqft_lot15', 'zipcode'])\n",
    "    \n",
    "    return X\n",
    "train = wrangle(train)\n",
    "test = wrangle(test)\n",
    "\n",
    "\n"
   ]
  },
  {
   "cell_type": "markdown",
   "metadata": {},
   "source": [
    "### Matrix/Vectorizing of train & test"
   ]
  },
  {
   "cell_type": "code",
   "execution_count": 33,
   "metadata": {},
   "outputs": [],
   "source": [
    "import numpy as np\n",
    "\n",
    "target = 'price'\n",
    "X_train = train.drop(columns = [target,'id'])\n",
    "y_train = train[target]\n",
    "X_test = test.drop(columns=[target, 'id'])\n",
    "y_test = test[target]\n",
    "\n",
    "# Log transformation of target vector\n",
    "y_train_log = np.log1p(y_train)\n",
    "y_test_log = np.log1p(y_test)"
   ]
  },
  {
   "cell_type": "markdown",
   "metadata": {},
   "source": [
    "### Visualizations of y_train & y_train_log"
   ]
  },
  {
   "cell_type": "code",
   "execution_count": 34,
   "metadata": {},
   "outputs": [
    {
     "data": {
      "text/plain": [
       "<matplotlib.axes._subplots.AxesSubplot at 0x120893390>"
      ]
     },
     "execution_count": 34,
     "metadata": {},
     "output_type": "execute_result"
    },
    {
     "data": {
      "image/png": "[encoded data removed]",
      "text/plain": [
       "<Figure size 432x288 with 1 Axes>"
      ]
     },
     "metadata": {
      "needs_background": "light"
     },
     "output_type": "display_data"
    }
   ],
   "source": [
    "import matplotlib.pyplot as plt\n",
    "import seaborn as sns\n",
    "%matplotlib inline\n",
    "sns.distplot(y_train)"
   ]
  },
  {
   "cell_type": "code",
   "execution_count": 35,
   "metadata": {},
   "outputs": [
    {
     "data": {
      "text/plain": [
       "<matplotlib.axes._subplots.AxesSubplot at 0x12337b9d0>"
      ]
     },
     "execution_count": 35,
     "metadata": {},
     "output_type": "execute_result"
    },
    {
     "data": {
      "image/png": "[encoded data removed]",
      "text/plain": [
       "<Figure size 432x288 with 1 Axes>"
      ]
     },
     "metadata": {
      "needs_background": "light"
     },
     "output_type": "display_data"
    }
   ],
   "source": [
    "sns.distplot(y_train_log)"
   ]
  },
  {
   "cell_type": "markdown",
   "metadata": {},
   "source": [
    "### XGBRegressor with early stopping rounds to determine best value for n_estimators"
   ]
  },
  {
   "cell_type": "code",
   "execution_count": 36,
   "metadata": {},
   "outputs": [],
   "source": [
    "trainval = train.copy()\n",
    "train, val = train_test_split(trainval)\n",
    "X_train = train.drop(columns=[target, 'id'])\n",
    "y_train = train[target]\n",
    "y_train_log = np.log1p(y_train)\n",
    "X_val = val.drop(columns=[target, 'id'])\n",
    "y_val = val[target]\n",
    "y_val_log = np.log1p(y_val)"
   ]
  },
  {
   "cell_type": "code",
   "execution_count": 37,
   "metadata": {},
   "outputs": [
    {
     "name": "stdout",
     "output_type": "stream",
     "text": [
      "[14:34:36] WARNING: src/objective/regression_obj.cu:152: reg:linear is now deprecated in favor of reg:squarederror.\n",
      "[0]\tvalidation_0-rmse:11.3036\tvalidation_1-rmse:11.3146\n",
      "Multiple eval metrics have been passed: 'validation_1-rmse' will be used for early stopping.\n",
      "\n",
      "Will train until validation_1-rmse hasn't improved in 10 rounds.\n",
      "[1]\tvalidation_0-rmse:10.1749\tvalidation_1-rmse:10.1855\n",
      "[2]\tvalidation_0-rmse:9.15925\tvalidation_1-rmse:9.16914\n",
      "[3]\tvalidation_0-rmse:8.24522\tvalidation_1-rmse:8.25422\n",
      "[4]\tvalidation_0-rmse:7.42269\tvalidation_1-rmse:7.43078\n",
      "[5]\tvalidation_0-rmse:6.68249\tvalidation_1-rmse:6.69056\n",
      "[6]\tvalidation_0-rmse:6.01647\tvalidation_1-rmse:6.02422\n",
      "[7]\tvalidation_0-rmse:5.41716\tvalidation_1-rmse:5.42485\n",
      "[8]\tvalidation_0-rmse:4.87792\tvalidation_1-rmse:4.88573\n",
      "[9]\tvalidation_0-rmse:4.3928\tvalidation_1-rmse:4.40059\n",
      "[10]\tvalidation_0-rmse:3.95636\tvalidation_1-rmse:3.96399\n",
      "[11]\tvalidation_0-rmse:3.56387\tvalidation_1-rmse:3.57142\n",
      "[12]\tvalidation_0-rmse:3.21087\tvalidation_1-rmse:3.21835\n",
      "[13]\tvalidation_0-rmse:2.89344\tvalidation_1-rmse:2.90104\n",
      "[14]\tvalidation_0-rmse:2.60804\tvalidation_1-rmse:2.6155\n",
      "[15]\tvalidation_0-rmse:2.35157\tvalidation_1-rmse:2.35904\n",
      "[16]\tvalidation_0-rmse:2.12117\tvalidation_1-rmse:2.12845\n",
      "[17]\tvalidation_0-rmse:1.91418\tvalidation_1-rmse:1.92152\n",
      "[18]\tvalidation_0-rmse:1.72847\tvalidation_1-rmse:1.73577\n",
      "[19]\tvalidation_0-rmse:1.56181\tvalidation_1-rmse:1.56887\n",
      "[20]\tvalidation_0-rmse:1.41242\tvalidation_1-rmse:1.41957\n",
      "[21]\tvalidation_0-rmse:1.2787\tvalidation_1-rmse:1.28567\n",
      "[22]\tvalidation_0-rmse:1.15903\tvalidation_1-rmse:1.16598\n",
      "[23]\tvalidation_0-rmse:1.0521\tvalidation_1-rmse:1.05911\n",
      "[24]\tvalidation_0-rmse:0.956775\tvalidation_1-rmse:0.963531\n",
      "[25]\tvalidation_0-rmse:0.871754\tvalidation_1-rmse:0.878464\n",
      "[26]\tvalidation_0-rmse:0.796298\tvalidation_1-rmse:0.802977\n",
      "[27]\tvalidation_0-rmse:0.729439\tvalidation_1-rmse:0.736212\n",
      "[28]\tvalidation_0-rmse:0.670248\tvalidation_1-rmse:0.676978\n",
      "[29]\tvalidation_0-rmse:0.61807\tvalidation_1-rmse:0.624835\n",
      "[30]\tvalidation_0-rmse:0.572372\tvalidation_1-rmse:0.579069\n",
      "[31]\tvalidation_0-rmse:0.532458\tvalidation_1-rmse:0.539087\n",
      "[32]\tvalidation_0-rmse:0.497726\tvalidation_1-rmse:0.504332\n",
      "[33]\tvalidation_0-rmse:0.467626\tvalidation_1-rmse:0.474101\n",
      "[34]\tvalidation_0-rmse:0.441671\tvalidation_1-rmse:0.448213\n",
      "[35]\tvalidation_0-rmse:0.419299\tvalidation_1-rmse:0.425696\n",
      "[36]\tvalidation_0-rmse:0.400306\tvalidation_1-rmse:0.406524\n",
      "[37]\tvalidation_0-rmse:0.3842\tvalidation_1-rmse:0.39012\n",
      "[38]\tvalidation_0-rmse:0.370573\tvalidation_1-rmse:0.376453\n",
      "[39]\tvalidation_0-rmse:0.359013\tvalidation_1-rmse:0.364808\n",
      "[40]\tvalidation_0-rmse:0.349435\tvalidation_1-rmse:0.354965\n",
      "[41]\tvalidation_0-rmse:0.341425\tvalidation_1-rmse:0.346809\n",
      "[42]\tvalidation_0-rmse:0.334619\tvalidation_1-rmse:0.339793\n",
      "[43]\tvalidation_0-rmse:0.329092\tvalidation_1-rmse:0.334098\n",
      "[44]\tvalidation_0-rmse:0.324452\tvalidation_1-rmse:0.329396\n",
      "[45]\tvalidation_0-rmse:0.32063\tvalidation_1-rmse:0.325413\n",
      "[46]\tvalidation_0-rmse:0.317478\tvalidation_1-rmse:0.322081\n",
      "[47]\tvalidation_0-rmse:0.31486\tvalidation_1-rmse:0.319244\n",
      "[48]\tvalidation_0-rmse:0.312571\tvalidation_1-rmse:0.316834\n",
      "[49]\tvalidation_0-rmse:0.310708\tvalidation_1-rmse:0.314953\n",
      "[50]\tvalidation_0-rmse:0.309218\tvalidation_1-rmse:0.313417\n",
      "[51]\tvalidation_0-rmse:0.307971\tvalidation_1-rmse:0.312141\n",
      "[52]\tvalidation_0-rmse:0.30696\tvalidation_1-rmse:0.311014\n",
      "[53]\tvalidation_0-rmse:0.306051\tvalidation_1-rmse:0.310096\n",
      "[54]\tvalidation_0-rmse:0.305186\tvalidation_1-rmse:0.309201\n",
      "[55]\tvalidation_0-rmse:0.304559\tvalidation_1-rmse:0.308509\n",
      "[56]\tvalidation_0-rmse:0.304019\tvalidation_1-rmse:0.307871\n",
      "[57]\tvalidation_0-rmse:0.303477\tvalidation_1-rmse:0.307293\n",
      "[58]\tvalidation_0-rmse:0.303082\tvalidation_1-rmse:0.306909\n",
      "[59]\tvalidation_0-rmse:0.302676\tvalidation_1-rmse:0.306533\n",
      "[60]\tvalidation_0-rmse:0.302299\tvalidation_1-rmse:0.30607\n",
      "[61]\tvalidation_0-rmse:0.30192\tvalidation_1-rmse:0.305679\n",
      "[62]\tvalidation_0-rmse:0.301693\tvalidation_1-rmse:0.305504\n",
      "[63]\tvalidation_0-rmse:0.301372\tvalidation_1-rmse:0.305246\n",
      "[64]\tvalidation_0-rmse:0.301192\tvalidation_1-rmse:0.305058\n",
      "[65]\tvalidation_0-rmse:0.300934\tvalidation_1-rmse:0.304809\n",
      "[66]\tvalidation_0-rmse:0.300704\tvalidation_1-rmse:0.304584\n",
      "[67]\tvalidation_0-rmse:0.300541\tvalidation_1-rmse:0.3045\n",
      "[68]\tvalidation_0-rmse:0.300416\tvalidation_1-rmse:0.304438\n",
      "[69]\tvalidation_0-rmse:0.300272\tvalidation_1-rmse:0.304306\n",
      "[70]\tvalidation_0-rmse:0.300084\tvalidation_1-rmse:0.304186\n",
      "[71]\tvalidation_0-rmse:0.299986\tvalidation_1-rmse:0.304105\n",
      "[72]\tvalidation_0-rmse:0.299926\tvalidation_1-rmse:0.304019\n",
      "[73]\tvalidation_0-rmse:0.299838\tvalidation_1-rmse:0.303949\n",
      "[74]\tvalidation_0-rmse:0.299728\tvalidation_1-rmse:0.303864\n",
      "[75]\tvalidation_0-rmse:0.299591\tvalidation_1-rmse:0.303736\n",
      "[76]\tvalidation_0-rmse:0.299447\tvalidation_1-rmse:0.303598\n",
      "[77]\tvalidation_0-rmse:0.299296\tvalidation_1-rmse:0.303495\n",
      "[78]\tvalidation_0-rmse:0.299129\tvalidation_1-rmse:0.303417\n",
      "[79]\tvalidation_0-rmse:0.299069\tvalidation_1-rmse:0.303381\n",
      "[80]\tvalidation_0-rmse:0.299019\tvalidation_1-rmse:0.303358\n",
      "[81]\tvalidation_0-rmse:0.298915\tvalidation_1-rmse:0.303328\n",
      "[82]\tvalidation_0-rmse:0.298805\tvalidation_1-rmse:0.303197\n",
      "[83]\tvalidation_0-rmse:0.298743\tvalidation_1-rmse:0.303156\n",
      "[84]\tvalidation_0-rmse:0.298561\tvalidation_1-rmse:0.303042\n",
      "[85]\tvalidation_0-rmse:0.298476\tvalidation_1-rmse:0.303014\n",
      "[86]\tvalidation_0-rmse:0.298439\tvalidation_1-rmse:0.302981\n",
      "[87]\tvalidation_0-rmse:0.298388\tvalidation_1-rmse:0.302951\n",
      "[88]\tvalidation_0-rmse:0.298357\tvalidation_1-rmse:0.302938\n",
      "[89]\tvalidation_0-rmse:0.298218\tvalidation_1-rmse:0.302844\n",
      "[90]\tvalidation_0-rmse:0.298124\tvalidation_1-rmse:0.302789\n",
      "[91]\tvalidation_0-rmse:0.298075\tvalidation_1-rmse:0.302763\n",
      "[92]\tvalidation_0-rmse:0.297984\tvalidation_1-rmse:0.302716\n",
      "[93]\tvalidation_0-rmse:0.297927\tvalidation_1-rmse:0.302698\n",
      "[94]\tvalidation_0-rmse:0.297826\tvalidation_1-rmse:0.302634\n",
      "[95]\tvalidation_0-rmse:0.297674\tvalidation_1-rmse:0.302526\n",
      "[96]\tvalidation_0-rmse:0.297596\tvalidation_1-rmse:0.302502\n",
      "[97]\tvalidation_0-rmse:0.29757\tvalidation_1-rmse:0.302498\n",
      "[98]\tvalidation_0-rmse:0.297536\tvalidation_1-rmse:0.30252\n",
      "[99]\tvalidation_0-rmse:0.297437\tvalidation_1-rmse:0.302468\n",
      "[100]\tvalidation_0-rmse:0.297415\tvalidation_1-rmse:0.302468\n",
      "[101]\tvalidation_0-rmse:0.297358\tvalidation_1-rmse:0.302436\n",
      "[102]\tvalidation_0-rmse:0.297333\tvalidation_1-rmse:0.302436\n",
      "[103]\tvalidation_0-rmse:0.297234\tvalidation_1-rmse:0.30238\n",
      "[104]\tvalidation_0-rmse:0.297197\tvalidation_1-rmse:0.302395\n",
      "[105]\tvalidation_0-rmse:0.297118\tvalidation_1-rmse:0.302327\n",
      "[106]\tvalidation_0-rmse:0.297027\tvalidation_1-rmse:0.302269\n",
      "[107]\tvalidation_0-rmse:0.297006\tvalidation_1-rmse:0.302274\n",
      "[108]\tvalidation_0-rmse:0.296946\tvalidation_1-rmse:0.30225\n",
      "[109]\tvalidation_0-rmse:0.296854\tvalidation_1-rmse:0.302262\n",
      "[110]\tvalidation_0-rmse:0.296819\tvalidation_1-rmse:0.302256\n",
      "[111]\tvalidation_0-rmse:0.296761\tvalidation_1-rmse:0.302236\n",
      "[112]\tvalidation_0-rmse:0.296715\tvalidation_1-rmse:0.302267\n",
      "[113]\tvalidation_0-rmse:0.296634\tvalidation_1-rmse:0.302227\n",
      "[114]\tvalidation_0-rmse:0.29662\tvalidation_1-rmse:0.302247\n",
      "[115]\tvalidation_0-rmse:0.296569\tvalidation_1-rmse:0.302228\n",
      "[116]\tvalidation_0-rmse:0.296552\tvalidation_1-rmse:0.302232\n",
      "[117]\tvalidation_0-rmse:0.296445\tvalidation_1-rmse:0.302225\n",
      "[118]\tvalidation_0-rmse:0.296392\tvalidation_1-rmse:0.302216\n",
      "[119]\tvalidation_0-rmse:0.296294\tvalidation_1-rmse:0.302155\n",
      "[120]\tvalidation_0-rmse:0.296281\tvalidation_1-rmse:0.302174\n",
      "[121]\tvalidation_0-rmse:0.296241\tvalidation_1-rmse:0.302203\n",
      "[122]\tvalidation_0-rmse:0.296176\tvalidation_1-rmse:0.302212\n",
      "[123]\tvalidation_0-rmse:0.296118\tvalidation_1-rmse:0.302212\n",
      "[124]\tvalidation_0-rmse:0.296044\tvalidation_1-rmse:0.302186\n",
      "[125]\tvalidation_0-rmse:0.296024\tvalidation_1-rmse:0.302179\n",
      "[126]\tvalidation_0-rmse:0.295948\tvalidation_1-rmse:0.302133\n",
      "[127]\tvalidation_0-rmse:0.295886\tvalidation_1-rmse:0.302133\n",
      "[128]\tvalidation_0-rmse:0.295858\tvalidation_1-rmse:0.302138\n",
      "[129]\tvalidation_0-rmse:0.29576\tvalidation_1-rmse:0.302091\n",
      "[130]\tvalidation_0-rmse:0.295701\tvalidation_1-rmse:0.302075\n",
      "[131]\tvalidation_0-rmse:0.295583\tvalidation_1-rmse:0.301952\n",
      "[132]\tvalidation_0-rmse:0.295516\tvalidation_1-rmse:0.301924\n",
      "[133]\tvalidation_0-rmse:0.295501\tvalidation_1-rmse:0.30194\n",
      "[134]\tvalidation_0-rmse:0.295489\tvalidation_1-rmse:0.301957\n"
     ]
    },
    {
     "name": "stdout",
     "output_type": "stream",
     "text": [
      "[135]\tvalidation_0-rmse:0.295441\tvalidation_1-rmse:0.301934\n",
      "[136]\tvalidation_0-rmse:0.295409\tvalidation_1-rmse:0.301926\n",
      "[137]\tvalidation_0-rmse:0.295392\tvalidation_1-rmse:0.301922\n",
      "[138]\tvalidation_0-rmse:0.295343\tvalidation_1-rmse:0.301931\n",
      "[139]\tvalidation_0-rmse:0.29533\tvalidation_1-rmse:0.30193\n",
      "[140]\tvalidation_0-rmse:0.295261\tvalidation_1-rmse:0.301875\n",
      "[141]\tvalidation_0-rmse:0.295204\tvalidation_1-rmse:0.301861\n",
      "[142]\tvalidation_0-rmse:0.29516\tvalidation_1-rmse:0.301844\n",
      "[143]\tvalidation_0-rmse:0.295076\tvalidation_1-rmse:0.301803\n",
      "[144]\tvalidation_0-rmse:0.295002\tvalidation_1-rmse:0.301772\n",
      "[145]\tvalidation_0-rmse:0.294958\tvalidation_1-rmse:0.301746\n",
      "[146]\tvalidation_0-rmse:0.294868\tvalidation_1-rmse:0.301656\n",
      "[147]\tvalidation_0-rmse:0.294859\tvalidation_1-rmse:0.301676\n",
      "[148]\tvalidation_0-rmse:0.294828\tvalidation_1-rmse:0.301708\n",
      "[149]\tvalidation_0-rmse:0.294785\tvalidation_1-rmse:0.301713\n",
      "[150]\tvalidation_0-rmse:0.294726\tvalidation_1-rmse:0.301698\n",
      "[151]\tvalidation_0-rmse:0.294717\tvalidation_1-rmse:0.301697\n",
      "[152]\tvalidation_0-rmse:0.29468\tvalidation_1-rmse:0.301716\n",
      "[153]\tvalidation_0-rmse:0.29462\tvalidation_1-rmse:0.301693\n",
      "[154]\tvalidation_0-rmse:0.294612\tvalidation_1-rmse:0.301709\n",
      "[155]\tvalidation_0-rmse:0.294602\tvalidation_1-rmse:0.301728\n",
      "[156]\tvalidation_0-rmse:0.29455\tvalidation_1-rmse:0.301692\n",
      "Stopping. Best iteration:\n",
      "[146]\tvalidation_0-rmse:0.294868\tvalidation_1-rmse:0.301656\n",
      "\n"
     ]
    },
    {
     "data": {
      "text/plain": [
       "XGBRegressor(base_score=0.5, booster='gbtree', colsample_bylevel=1,\n",
       "             colsample_bynode=1, colsample_bytree=1, gamma=0,\n",
       "             importance_type='gain', learning_rate=0.1, max_delta_step=0,\n",
       "             max_depth=3, min_child_weight=1, missing=None, n_estimators=1000,\n",
       "             n_jobs=-1, nthread=None, objective='reg:linear', random_state=42,\n",
       "             reg_alpha=0, reg_lambda=1, scale_pos_weight=1, seed=None,\n",
       "             silent=None, subsample=1, verbosity=1)"
      ]
     },
     "execution_count": 37,
     "metadata": {},
     "output_type": "execute_result"
    }
   ],
   "source": [
    "# XGBRegressor wih early stopping rounds\n",
    "import warnings\n",
    "import category_encoders as ce\n",
    "from xgboost import XGBRegressor\n",
    "warnings.simplefilter(action='ignore', category=FutureWarning)\n",
    "\n",
    "encoder = ce.OrdinalEncoder()\n",
    "X_train_encoded = encoder.fit_transform(X_train)\n",
    "X_val_encoded = encoder.transform(X_val)\n",
    "\n",
    "eval_set = [(X_train_encoded, y_train_log), \n",
    "            (X_val_encoded, y_val_log)]\n",
    "\n",
    "model = XGBRegressor(n_estimators=1000, n_jobs=-1, random_state=42)\n",
    "model.fit(X_train_encoded, y_train_log, eval_set=eval_set, eval_metric='rmse', \n",
    "          early_stopping_rounds=10)"
   ]
  },
  {
   "cell_type": "markdown",
   "metadata": {},
   "source": [
    "### Permutation Importance"
   ]
  },
  {
   "cell_type": "code",
   "execution_count": 38,
   "metadata": {
    "scrolled": true
   },
   "outputs": [
    {
     "data": {
      "text/html": [
       "\n",
       "    <style>\n",
       "    table.eli5-weights tr:hover {\n",
       "        filter: brightness(85%);\n",
       "    }\n",
       "</style>\n",
       "\n",
       "\n",
       "\n",
       "    \n",
       "\n",
       "    \n",
       "\n",
       "    \n",
       "\n",
       "    \n",
       "\n",
       "    \n",
       "\n",
       "    \n",
       "\n",
       "\n",
       "    \n",
       "\n",
       "    \n",
       "\n",
       "    \n",
       "\n",
       "    \n",
       "\n",
       "    \n",
       "\n",
       "    \n",
       "\n",
       "\n",
       "    \n",
       "\n",
       "    \n",
       "\n",
       "    \n",
       "\n",
       "    \n",
       "\n",
       "    \n",
       "        <table class=\"eli5-weights eli5-feature-importances\" style=\"border-collapse: collapse; border: none; margin-top: 0em; table-layout: auto;\">\n",
       "    <thead>\n",
       "    <tr style=\"border: none;\">\n",
       "        <th style=\"padding: 0 1em 0 0.5em; text-align: right; border: none;\">Weight</th>\n",
       "        <th style=\"padding: 0 0.5em 0 0.5em; text-align: left; border: none;\">Feature</th>\n",
       "    </tr>\n",
       "    </thead>\n",
       "    <tbody>\n",
       "    \n",
       "        <tr style=\"background-color: hsl(120, 100.00%, 80.00%); border: none;\">\n",
       "            <td style=\"padding: 0 1em 0 0.5em; text-align: right; border: none;\">\n",
       "                0.1394\n",
       "                \n",
       "                    &plusmn; 0.0008\n",
       "                \n",
       "            </td>\n",
       "            <td style=\"padding: 0 0.5em 0 0.5em; text-align: left; border: none;\">\n",
       "                grade\n",
       "            </td>\n",
       "        </tr>\n",
       "    \n",
       "        <tr style=\"background-color: hsl(120, 100.00%, 86.66%); border: none;\">\n",
       "            <td style=\"padding: 0 1em 0 0.5em; text-align: right; border: none;\">\n",
       "                0.0782\n",
       "                \n",
       "                    &plusmn; 0.0005\n",
       "                \n",
       "            </td>\n",
       "            <td style=\"padding: 0 0.5em 0 0.5em; text-align: left; border: none;\">\n",
       "                sqft_living\n",
       "            </td>\n",
       "        </tr>\n",
       "    \n",
       "        <tr style=\"background-color: hsl(120, 100.00%, 88.27%); border: none;\">\n",
       "            <td style=\"padding: 0 1em 0 0.5em; text-align: right; border: none;\">\n",
       "                0.0650\n",
       "                \n",
       "                    &plusmn; 0.0011\n",
       "                \n",
       "            </td>\n",
       "            <td style=\"padding: 0 0.5em 0 0.5em; text-align: left; border: none;\">\n",
       "                yr_built\n",
       "            </td>\n",
       "        </tr>\n",
       "    \n",
       "        <tr style=\"background-color: hsl(120, 100.00%, 97.35%); border: none;\">\n",
       "            <td style=\"padding: 0 1em 0 0.5em; text-align: right; border: none;\">\n",
       "                0.0078\n",
       "                \n",
       "                    &plusmn; 0.0005\n",
       "                \n",
       "            </td>\n",
       "            <td style=\"padding: 0 0.5em 0 0.5em; text-align: left; border: none;\">\n",
       "                bathrooms\n",
       "            </td>\n",
       "        </tr>\n",
       "    \n",
       "        <tr style=\"background-color: hsl(120, 100.00%, 98.31%); border: none;\">\n",
       "            <td style=\"padding: 0 1em 0 0.5em; text-align: right; border: none;\">\n",
       "                0.0041\n",
       "                \n",
       "                    &plusmn; 0.0002\n",
       "                \n",
       "            </td>\n",
       "            <td style=\"padding: 0 0.5em 0 0.5em; text-align: left; border: none;\">\n",
       "                waterfront\n",
       "            </td>\n",
       "        </tr>\n",
       "    \n",
       "        <tr style=\"background-color: hsl(120, 100.00%, 98.80%); border: none;\">\n",
       "            <td style=\"padding: 0 1em 0 0.5em; text-align: right; border: none;\">\n",
       "                0.0025\n",
       "                \n",
       "                    &plusmn; 0.0002\n",
       "                \n",
       "            </td>\n",
       "            <td style=\"padding: 0 0.5em 0 0.5em; text-align: left; border: none;\">\n",
       "                condition\n",
       "            </td>\n",
       "        </tr>\n",
       "    \n",
       "        <tr style=\"background-color: hsl(120, 100.00%, 98.85%); border: none;\">\n",
       "            <td style=\"padding: 0 1em 0 0.5em; text-align: right; border: none;\">\n",
       "                0.0024\n",
       "                \n",
       "                    &plusmn; 0.0001\n",
       "                \n",
       "            </td>\n",
       "            <td style=\"padding: 0 0.5em 0 0.5em; text-align: left; border: none;\">\n",
       "                bedrooms\n",
       "            </td>\n",
       "        </tr>\n",
       "    \n",
       "        <tr style=\"background-color: hsl(120, 100.00%, 99.25%); border: none;\">\n",
       "            <td style=\"padding: 0 1em 0 0.5em; text-align: right; border: none;\">\n",
       "                0.0013\n",
       "                \n",
       "                    &plusmn; 0.0000\n",
       "                \n",
       "            </td>\n",
       "            <td style=\"padding: 0 0.5em 0 0.5em; text-align: left; border: none;\">\n",
       "                floors\n",
       "            </td>\n",
       "        </tr>\n",
       "    \n",
       "    \n",
       "    </tbody>\n",
       "</table>\n",
       "    \n",
       "\n",
       "    \n",
       "\n",
       "\n",
       "    \n",
       "\n",
       "    \n",
       "\n",
       "    \n",
       "\n",
       "    \n",
       "\n",
       "    \n",
       "\n",
       "    \n",
       "\n",
       "\n",
       "\n"
      ],
      "text/plain": [
       "<IPython.core.display.HTML object>"
      ]
     },
     "execution_count": 38,
     "metadata": {},
     "output_type": "execute_result"
    }
   ],
   "source": [
    "from eli5 import show_weights\n",
    "from eli5.sklearn import PermutationImportance\n",
    "\n",
    "permuter = PermutationImportance(model, scoring='neg_mean_squared_error', \n",
    "                                 cv='prefit', n_iter=2, random_state=42)\n",
    "\n",
    "permuter.fit(X_train_encoded, y_train_log)\n",
    "feature_names = X_train_encoded.columns.tolist()\n",
    "show_weights(permuter, top=None, feature_names=feature_names)"
   ]
  },
  {
   "cell_type": "code",
   "execution_count": 39,
   "metadata": {},
   "outputs": [],
   "source": [
    "from sklearn.metrics import mean_squared_error\n",
    "\n",
    "def rmse(y_true, y_pred):\n",
    "    return np.sqrt(mean_squared_error(y_true, y_pred))"
   ]
  },
  {
   "cell_type": "markdown",
   "metadata": {},
   "source": [
    "### Create and fit pipeline"
   ]
  },
  {
   "cell_type": "code",
   "execution_count": 40,
   "metadata": {},
   "outputs": [
    {
     "name": "stdout",
     "output_type": "stream",
     "text": [
      "[14:34:38] WARNING: src/objective/regression_obj.cu:152: reg:linear is now deprecated in favor of reg:squarederror.\n",
      "y_val RMSLE 0.3025916182712615\n"
     ]
    }
   ],
   "source": [
    "\n",
    "from sklearn.pipeline import make_pipeline\n",
    "\n",
    "pipeline = make_pipeline(ce.OrdinalEncoder(),\n",
    "            XGBRegressor(base_score=0.5, booster='gbtree', colsample_bylevel=1,\n",
    "             colsample_bynode=1, colsample_bytree=1, gamma=0,\n",
    "             importance_type='gain', learning_rate=0.1, max_delta_step=0,\n",
    "             max_depth=3, min_child_weight=1, missing=None, n_estimators=645,\n",
    "             n_jobs=-1, nthread=None, objective='reg:linear', random_state=42,\n",
    "             reg_alpha=0, reg_lambda=1, scale_pos_weight=1, seed=None,\n",
    "             silent=None, subsample=1, verbosity=1)\n",
    ")\n",
    "pipeline.fit(X_train, y_train_log)\n",
    "y_pred_log = pipeline.predict(X_val)\n",
    "print('y_val RMSLE', rmse(y_val_log, y_pred_log))\n",
    "\n"
   ]
  },
  {
   "cell_type": "markdown",
   "metadata": {},
   "source": [
    "### Cross validation scores"
   ]
  },
  {
   "cell_type": "code",
   "execution_count": 41,
   "metadata": {},
   "outputs": [
    {
     "name": "stdout",
     "output_type": "stream",
     "text": [
      "RMSLE for 5 folds: [0.3082567  0.29526456 0.30162306 0.29624759 0.31036676]\n"
     ]
    }
   ],
   "source": [
    "# Cross Validation Train set 5 folds\n",
    "import warnings\n",
    "warnings.simplefilter(action='ignore', category=FutureWarning)\n",
    "\n",
    "from sklearn.model_selection import cross_val_score\n",
    "\n",
    "from sklearn.metrics import accuracy_score, mean_squared_error\n",
    "\n",
    "\n",
    "\n",
    "\n",
    "k=5\n",
    "groups = train['id']\n",
    "scores = cross_val_score(pipeline, X_train, y_train_log, cv=k, n_jobs=-1,\n",
    "                        scoring='neg_mean_squared_error', groups=groups)\n",
    "print(f'RMSLE for {k} folds:', np.sqrt(-scores))"
   ]
  },
  {
   "cell_type": "markdown",
   "metadata": {},
   "source": [
    "### Plotting feature importances"
   ]
  },
  {
   "cell_type": "code",
   "execution_count": 42,
   "metadata": {},
   "outputs": [
    {
     "data": {
      "image/png": "[encoded data removed]",
      "text/plain": [
       "<Figure size 720x720 with 1 Axes>"
      ]
     },
     "metadata": {
      "needs_background": "light"
     },
     "output_type": "display_data"
    }
   ],
   "source": [
    "%matplotlib inline\n",
    "import matplotlib.pyplot as plt\n",
    "plt.figure(figsize=(10,10))\n",
    "rf = pipeline.named_steps['xgbregressor']\n",
    "importances = pd.Series(rf.feature_importances_, X_train.columns)\n",
    "importances.sort_values().plot.barh(color='grey');"
   ]
  },
  {
   "cell_type": "code",
   "execution_count": 49,
   "metadata": {},
   "outputs": [
    {
     "name": "stdout",
     "output_type": "stream",
     "text": [
      "RMSLE 0.30304918125277425\n",
      "dollars: 187221.58641692193\n"
     ]
    }
   ],
   "source": [
    "# Get the test error (one time, at the end)\n",
    "y_pred_log = pipeline.predict(X_test)\n",
    "y_pred=np.expm1(y_pred_log)\n",
    "print('RMSLE', rmse(y_test_log, y_pred_log))\n",
    "print('dollars:', rmse(y_test, y_pred))"
   ]
  },
  {
   "cell_type": "code",
   "execution_count": 44,
   "metadata": {},
   "outputs": [
    {
     "name": "stdout",
     "output_type": "stream",
     "text": [
      "0.5775857044439964\n"
     ]
    }
   ],
   "source": [
    "from sklearn.metrics import explained_variance_score\n",
    "print('Var Score:', explained_variance_score(y_pred,y_test))"
   ]
  },
  {
   "cell_type": "code",
   "execution_count": 45,
   "metadata": {},
   "outputs": [
    {
     "data": {
      "text/plain": [
       "['pipeline.joblib']"
      ]
     },
     "execution_count": 45,
     "metadata": {},
     "output_type": "execute_result"
    }
   ],
   "source": [
    "from joblib import dump\n",
    "dump(pipeline, 'pipeline.joblib')"
   ]
  },
  {
   "cell_type": "code",
   "execution_count": 46,
   "metadata": {},
   "outputs": [
    {
     "data": {
      "text/plain": [
       "508749.16"
      ]
     },
     "execution_count": 46,
     "metadata": {},
     "output_type": "execute_result"
    }
   ],
   "source": [
    "def predict(beds,baths,sqft,floor, water, cond, grade, yr):\n",
    "    df = pd.DataFrame(\n",
    "        columns=['bedrooms', 'bathrooms','sqft_living','floors', 'waterfront', 'condition', 'grade', 'yr_built'],\n",
    "        data=[[ beds, baths, sqft, floor, water, cond, grade, yr]]\n",
    "    )\n",
    "    y_pred_log=pipeline.predict(df)[0]\n",
    "    y_pred = np.expm1(y_pred_log)\n",
    "\n",
    "    return y_pred\n",
    "\n",
    "predict(3, 3, 1972, 1, 1, 4, 7, 1956)"
   ]
  }
 ],
 "metadata": {
  "kernelspec": {
   "display_name": "Python 3",
   "language": "python",
   "name": "python3"
  },
  "language_info": {
   "codemirror_mode": {
    "name": "ipython",
    "version": 3
   },
   "file_extension": ".py",
   "mimetype": "text/x-python",
   "name": "python",
   "nbconvert_exporter": "python",
   "pygments_lexer": "ipython3",
   "version": "3.7.4"
  }
 },
 "nbformat": 4,
 "nbformat_minor": 2
}
